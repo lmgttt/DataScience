{
 "cells": [
  {
   "cell_type": "code",
   "execution_count": 10,
   "metadata": {},
   "outputs": [
    {
     "data": {
      "image/png": "[encoded data removed]",
      "text/plain": [
       "<Figure size 432x288 with 1 Axes>"
      ]
     },
     "metadata": {
      "needs_background": "light"
     },
     "output_type": "display_data"
    }
   ],
   "source": [
    "from matplotlib import pyplot as plt\n",
    "\n",
    "movies = [\"Annie Hall\", \"Ben-Hur\", \"Casablanca\", \"Gandhi\", \"West Side Story\"]\n",
    "num_oscars = [5, 11, 3, 8, 10]\n",
    "\n",
    "plt.bar(movies, num_oscars, \n",
    "        color=(\n",
    "            (1,0,0,0.5),\n",
    "            (0,1,0,0.5),\n",
    "            (0,0,1,0.5),\n",
    "            (1,1,0,0.5),\n",
    "            (0,1,1,0.5)\n",
    "            ), \n",
    "        edgecolor=(\n",
    "            (0,0,0),\n",
    "            (1,0,0),\n",
    "            (0,1,0),\n",
    "            (0,0,1),\n",
    "            (1,1,0)\n",
    "            ),\n",
    "        linewidth=(\n",
    "            (1),\n",
    "            (2),\n",
    "            (3),\n",
    "            (4),\n",
    "            (5))\n",
    "       )\n",
    "plt.ylabel(\"# of Academy Awards\")\n",
    "plt.title(\"My Favorite Movies\")\n",
    "\n",
    "\n",
    "# plt.show()\n",
    "plt.savefig('foo.png')\n"
   ]
  },
  {
   "cell_type": "code",
   "execution_count": null,
   "metadata": {},
   "outputs": [],
   "source": []
  }
 ],
 "metadata": {
  "kernelspec": {
   "display_name": "Python 3",
   "language": "python",
   "name": "python3"
  },
  "language_info": {
   "codemirror_mode": {
    "name": "ipython",
    "version": 3
   },
   "file_extension": ".py",
   "mimetype": "text/x-python",
   "name": "python",
   "nbconvert_exporter": "python",
   "pygments_lexer": "ipython3",
   "version": "3.7.3"
  }
 },
 "nbformat": 4,
 "nbformat_minor": 2
}
