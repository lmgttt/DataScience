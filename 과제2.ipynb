{
 "cells": [
  {
   "cell_type": "code",
   "execution_count": 1,
   "metadata": {},
   "outputs": [
    {
     "name": "stdout",
     "output_type": "stream",
     "text": [
      "\n",
      "                   *    \n",
      "           *      ***   \n",
      "  *       ***    *****  \n",
      " ***  *  *****  ******* \n",
      "************************"
     ]
    }
   ],
   "source": [
    "# 데이터사이언스핵심 과제2\n",
    "# 2017315005 안시후\n",
    "# 2019-05-15\n",
    "list = [5,3,7,9]\n",
    "for x in range(0, max(list)//2+1, 1):\n",
    "    print()\n",
    "    for y in range(0, len(list), 1):\n",
    "        for z in range(0, list[y], 1):\n",
    "            if(x>-z+(max(list)//2)-1 and x+list[y]>z+(max(list)//2)):\n",
    "                print(\"*\", end=\"\")\n",
    "            else:\n",
    "                print(\" \", end=\"\")"
   ]
  },
  {
   "cell_type": "code",
   "execution_count": null,
   "metadata": {},
   "outputs": [],
   "source": []
  }
 ],
 "metadata": {
  "kernelspec": {
   "display_name": "Python 3",
   "language": "python",
   "name": "python3"
  },
  "language_info": {
   "codemirror_mode": {
    "name": "ipython",
    "version": 3
   },
   "file_extension": ".py",
   "mimetype": "text/x-python",
   "name": "python",
   "nbconvert_exporter": "python",
   "pygments_lexer": "ipython3",
   "version": "3.7.3"
  }
 },
 "nbformat": 4,
 "nbformat_minor": 2
}
