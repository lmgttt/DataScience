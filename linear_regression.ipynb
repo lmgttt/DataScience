{
 "cells": [
  {
   "cell_type": "code",
   "execution_count": 30,
   "metadata": {},
   "outputs": [
    {
     "name": "stdout",
     "output_type": "stream",
     "text": [
      "1.0 0.4285714285714285\n"
     ]
    },
    {
     "data": {
      "image/png": "[encoded data removed]",
      "text/plain": [
       "<Figure size 432x288 with 1 Axes>"
      ]
     },
     "metadata": {
      "needs_background": "light"
     },
     "output_type": "display_data"
    }
   ],
   "source": [
    "from matplotlib import pyplot as plt\n",
    "\n",
    "x = [1, 2, 4]\n",
    "y = [2, 1, 3]\n",
    "\n",
    "plt.grid()\n",
    "plt.axis([0,10,0,10])\n",
    "plt.scatter(x,y)\n",
    "for i in range(len(x)):\n",
    "    label =\"(\" + str(x[i]) + \",\" + str(y[i])+ \")\"\n",
    "    plt.annotate(label, xy=(x[i],y[i]), xytext=(5,-5), textcoords='offset points')\n",
    "\n",
    "temp = 0\n",
    "xbar = 0\n",
    "ybar = 0\n",
    "xxbar = 0\n",
    "xybar = 0\n",
    "\n",
    "\n",
    "for i in range(0, len(x), 1):\n",
    "    temp += x[i]\n",
    "xbar = temp/len(x)\n",
    "temp = 0\n",
    "\n",
    "for i in range(0, len(y), 1):\n",
    "    temp += y[i]\n",
    "ybar = temp/len(x)\n",
    "temp = 0\n",
    "\n",
    "for i in range(0, len(x), 1):\n",
    "    temp += x[i]*x[i]\n",
    "xxbar = temp/len(x)\n",
    "temp = 0\n",
    "\n",
    "for i in range(0, len(x), 1):\n",
    "    temp += x[i]*y[i]\n",
    "xybar = temp/len(x)\n",
    "temp = 0\n",
    "\n",
    "m = (xbar*ybar - xybar) / (xbar*xbar - xxbar)\n",
    "b = ybar - m * xbar\n",
    "\n",
    "print(b, m)\n",
    "\n",
    "xForLine=[]\n",
    "yForLine=[]\n",
    "\n",
    "for i in range(0, 11, 1):\n",
    "    xForLine.append(i)\n",
    "    yForLine.append(m*i+b)\n",
    "\n",
    "plt.plot(xForLine, yForLine, 'k-', label=(\"y=\",m,\"x+\",b))\n",
    "plt.legend(loc=9)\n",
    "plt.show()"
   ]
  },
  {
   "cell_type": "code",
   "execution_count": null,
   "metadata": {},
   "outputs": [],
   "source": []
  }
 ],
 "metadata": {
  "kernelspec": {
   "display_name": "Python 3",
   "language": "python",
   "name": "python3"
  },
  "language_info": {
   "codemirror_mode": {
    "name": "ipython",
    "version": 3
   },
   "file_extension": ".py",
   "mimetype": "text/x-python",
   "name": "python",
   "nbconvert_exporter": "python",
   "pygments_lexer": "ipython3",
   "version": "3.7.3"
  }
 },
 "nbformat": 4,
 "nbformat_minor": 2
}
